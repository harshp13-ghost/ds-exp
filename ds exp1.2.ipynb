{
  "nbformat": 4,
  "nbformat_minor": 0,
  "metadata": {
    "colab": {
      "provenance": [],
      "include_colab_link": true
    },
    "kernelspec": {
      "name": "python3",
      "display_name": "Python 3"
    },
    "language_info": {
      "name": "python"
    }
  },
  "cells": [
    {
      "cell_type": "markdown",
      "metadata": {
        "id": "view-in-github",
        "colab_type": "text"
      },
      "source": [
        "<a href=\"https://colab.research.google.com/github/harshp13-ghost/ds-exp/blob/main/ds%20exp1.2.ipynb\" target=\"_parent\"><img src=\"https://colab.research.google.com/assets/colab-badge.svg\" alt=\"Open In Colab\"/></a>"
      ]
    },
    {
      "cell_type": "code",
      "execution_count": null,
      "metadata": {
        "id": "aHHUyCb3G5_9"
      },
      "outputs": [],
      "source": [
        "import pandas as pd\n",
        "import numpy as np"
      ]
    },
    {
      "cell_type": "code",
      "source": [
        "dataset = pd.read_csv(r\"/content/people.csv\")"
      ],
      "metadata": {
        "id": "GdH1NP2MHBZ7"
      },
      "execution_count": null,
      "outputs": []
    },
    {
      "cell_type": "code",
      "source": [
        "dataset1 = pd.read_csv(r\"/content/age_gender.csv\")"
      ],
      "metadata": {
        "id": "wnoy7pDiHdFk"
      },
      "execution_count": null,
      "outputs": []
    },
    {
      "cell_type": "code",
      "source": [
        "print(dataset1)"
      ],
      "metadata": {
        "colab": {
          "base_uri": "https://localhost:8080/"
        },
        "id": "QUAGU6gDH7bi",
        "outputId": "cf1f99ad-d789-4c84-c4bb-067ef9f0bd6b"
      },
      "execution_count": null,
      "outputs": [
        {
          "output_type": "stream",
          "name": "stdout",
          "text": [
            "     age  ethnicity  gender                        img_name  \\\n",
            "0      1          2       0  20161219203650636.jpg.chip.jpg   \n",
            "1      1          2       0  20161219222752047.jpg.chip.jpg   \n",
            "2      1          2       0  20161219222832191.jpg.chip.jpg   \n",
            "3      1          2       0  20161220144911423.jpg.chip.jpg   \n",
            "4      1          2       0  20161220144914327.jpg.chip.jpg   \n",
            "..   ...        ...     ...                             ...   \n",
            "820    1          0       0  20170109191453449.jpg.chip.jpg   \n",
            "821    1          0       0  20161220220239129.jpg.chip.jpg   \n",
            "822    1          0       0  20170103210032258.jpg.chip.jpg   \n",
            "823    1          0       0  20170103210415090.jpg.chip.jpg   \n",
            "824    1          0       0  20170103210548852.jpg.chip.jpg   \n",
            "\n",
            "                                                pixels  \n",
            "0    129 128 128 126 127 130 133 135 139 142 145 14...  \n",
            "1    164 74 111 168 169 171 175 182 184 188 193 199...  \n",
            "2    67 70 71 70 69 67 70 79 90 103 116 132 145 155...  \n",
            "3    193 197 198 200 199 200 202 203 204 205 208 21...  \n",
            "4    202 205 209 210 209 209 210 211 212 214 218 21...  \n",
            "..                                                 ...  \n",
            "820  95 104 115 124 136 143 149 155 158 170 174 179...  \n",
            "821  225 221 223 222 194 155 145 159 174 184 191 19...  \n",
            "822  198 186 164 88 93 171 192 203 207 210 211 211 ...  \n",
            "823  225 227 225 225 226 227 226 225 225 225 223 22...  \n",
            "824  150 68 82 97 104 112 130 139 150 161 169 175 1...  \n",
            "\n",
            "[825 rows x 5 columns]\n"
          ]
        }
      ]
    },
    {
      "cell_type": "code",
      "source": [
        "print(dataset)"
      ],
      "metadata": {
        "colab": {
          "base_uri": "https://localhost:8080/"
        },
        "id": "aQ5btLF2IOjT",
        "outputId": "0be475ac-886a-47fa-ccb2-4d6507332236"
      },
      "execution_count": null,
      "outputs": [
        {
          "output_type": "stream",
          "name": "stdout",
          "text": [
            "     age  ethnicity  gender                        img_name  \\\n",
            "0      1          2       0  20161219203650636.jpg.chip.jpg   \n",
            "1      1          2       0  20161219222752047.jpg.chip.jpg   \n",
            "2      1          2       0  20161219222832191.jpg.chip.jpg   \n",
            "3      1          2       0  20161220144911423.jpg.chip.jpg   \n",
            "4      1          2       0  20161220144914327.jpg.chip.jpg   \n",
            "..   ...        ...     ...                             ...   \n",
            "820    1          0       0  20170109191453449.jpg.chip.jpg   \n",
            "821    1          0       0  20161220220239129.jpg.chip.jpg   \n",
            "822    1          0       0  20170103210032258.jpg.chip.jpg   \n",
            "823    1          0       0  20170103210415090.jpg.chip.jpg   \n",
            "824    1          0       0  20170103210548852.jpg.chip.jpg   \n",
            "\n",
            "                                                pixels  \n",
            "0    129 128 128 126 127 130 133 135 139 142 145 14...  \n",
            "1    164 74 111 168 169 171 175 182 184 188 193 199...  \n",
            "2    67 70 71 70 69 67 70 79 90 103 116 132 145 155...  \n",
            "3    193 197 198 200 199 200 202 203 204 205 208 21...  \n",
            "4    202 205 209 210 209 209 210 211 212 214 218 21...  \n",
            "..                                                 ...  \n",
            "820  95 104 115 124 136 143 149 155 158 170 174 179...  \n",
            "821  225 221 223 222 194 155 145 159 174 184 191 19...  \n",
            "822  198 186 164 88 93 171 192 203 207 210 211 211 ...  \n",
            "823  225 227 225 225 226 227 226 225 225 225 223 22...  \n",
            "824  150 68 82 97 104 112 130 139 150 161 169 175 1...  \n",
            "\n",
            "[825 rows x 5 columns]\n"
          ]
        }
      ]
    },
    {
      "cell_type": "code",
      "source": [
        "df2 = pd.read_csv(r\"/content/pairs.csv\")"
      ],
      "metadata": {
        "id": "fn8DzcbBIWoQ"
      },
      "execution_count": null,
      "outputs": []
    },
    {
      "cell_type": "code",
      "source": [
        "print(df2)"
      ],
      "metadata": {
        "colab": {
          "base_uri": "https://localhost:8080/"
        },
        "id": "-ILcjfaNJOCc",
        "outputId": "fa474d00-b42a-4f50-963d-1e3e42d1dc3a"
      },
      "execution_count": null,
      "outputs": [
        {
          "output_type": "stream",
          "name": "stdout",
          "text": [
            "                                     name  imagenum1      imagenum2  \\\n",
            "0                            Abel_Pacheco          1              4   \n",
            "1                          Akhmed_Zakayev          1              3   \n",
            "2                          Akhmed_Zakayev          2              3   \n",
            "3                           Amber_Tamblyn          1              2   \n",
            "4                   Anders_Fogh_Rasmussen          1              3   \n",
            "...                                   ...        ...            ...   \n",
            "5995                           Scott_Wolf          2  Troy_Polamalu   \n",
            "5996  Sergei_Alexandrovitch_Ordzhonikidze          1   Yolanda_King   \n",
            "5997                           Shane_Loux          1   Val_Ackerman   \n",
            "5998                         Shawn_Marion          1  Shirley_Jones   \n",
            "5999                   Slobodan_Milosevic          2         Sok_An   \n",
            "\n",
            "      Unnamed: 3  \n",
            "0            NaN  \n",
            "1            NaN  \n",
            "2            NaN  \n",
            "3            NaN  \n",
            "4            NaN  \n",
            "...          ...  \n",
            "5995         1.0  \n",
            "5996         1.0  \n",
            "5997         1.0  \n",
            "5998         1.0  \n",
            "5999         1.0  \n",
            "\n",
            "[6000 rows x 4 columns]\n"
          ]
        }
      ]
    },
    {
      "cell_type": "code",
      "source": [
        "output1 = pd.merge(dataset1, dataset,\n",
        "                   on='age',\n",
        "                   how='inner')"
      ],
      "metadata": {
        "id": "eavR7xUpJRZn"
      },
      "execution_count": null,
      "outputs": []
    },
    {
      "cell_type": "code",
      "source": [
        "print(output1)"
      ],
      "metadata": {
        "colab": {
          "base_uri": "https://localhost:8080/"
        },
        "id": "zSwJaj1_JtOA",
        "outputId": "b7becf22-aa39-48e4-c050-744e6a95e58d"
      },
      "execution_count": null,
      "outputs": [
        {
          "output_type": "stream",
          "name": "stdout",
          "text": [
            "        age  ethnicity_x  gender_x                      img_name_x  \\\n",
            "0         1            2         0  20161219203650636.jpg.chip.jpg   \n",
            "1         1            2         0  20161219203650636.jpg.chip.jpg   \n",
            "2         1            2         0  20161219203650636.jpg.chip.jpg   \n",
            "3         1            2         0  20161219203650636.jpg.chip.jpg   \n",
            "4         1            2         0  20161219203650636.jpg.chip.jpg   \n",
            "...     ...          ...       ...                             ...   \n",
            "680620    1            0         0  20170103210548852.jpg.chip.jpg   \n",
            "680621    1            0         0  20170103210548852.jpg.chip.jpg   \n",
            "680622    1            0         0  20170103210548852.jpg.chip.jpg   \n",
            "680623    1            0         0  20170103210548852.jpg.chip.jpg   \n",
            "680624    1            0         0  20170103210548852.jpg.chip.jpg   \n",
            "\n",
            "                                                 pixels_x  ethnicity_y  \\\n",
            "0       129 128 128 126 127 130 133 135 139 142 145 14...            2   \n",
            "1       129 128 128 126 127 130 133 135 139 142 145 14...            2   \n",
            "2       129 128 128 126 127 130 133 135 139 142 145 14...            2   \n",
            "3       129 128 128 126 127 130 133 135 139 142 145 14...            2   \n",
            "4       129 128 128 126 127 130 133 135 139 142 145 14...            2   \n",
            "...                                                   ...          ...   \n",
            "680620  150 68 82 97 104 112 130 139 150 161 169 175 1...            0   \n",
            "680621  150 68 82 97 104 112 130 139 150 161 169 175 1...            0   \n",
            "680622  150 68 82 97 104 112 130 139 150 161 169 175 1...            0   \n",
            "680623  150 68 82 97 104 112 130 139 150 161 169 175 1...            0   \n",
            "680624  150 68 82 97 104 112 130 139 150 161 169 175 1...            0   \n",
            "\n",
            "        gender_y                      img_name_y  \\\n",
            "0              0  20161219203650636.jpg.chip.jpg   \n",
            "1              0  20161219222752047.jpg.chip.jpg   \n",
            "2              0  20161219222832191.jpg.chip.jpg   \n",
            "3              0  20161220144911423.jpg.chip.jpg   \n",
            "4              0  20161220144914327.jpg.chip.jpg   \n",
            "...          ...                             ...   \n",
            "680620         0  20170109191453449.jpg.chip.jpg   \n",
            "680621         0  20161220220239129.jpg.chip.jpg   \n",
            "680622         0  20170103210032258.jpg.chip.jpg   \n",
            "680623         0  20170103210415090.jpg.chip.jpg   \n",
            "680624         0  20170103210548852.jpg.chip.jpg   \n",
            "\n",
            "                                                 pixels_y  \n",
            "0       129 128 128 126 127 130 133 135 139 142 145 14...  \n",
            "1       164 74 111 168 169 171 175 182 184 188 193 199...  \n",
            "2       67 70 71 70 69 67 70 79 90 103 116 132 145 155...  \n",
            "3       193 197 198 200 199 200 202 203 204 205 208 21...  \n",
            "4       202 205 209 210 209 209 210 211 212 214 218 21...  \n",
            "...                                                   ...  \n",
            "680620  95 104 115 124 136 143 149 155 158 170 174 179...  \n",
            "680621  225 221 223 222 194 155 145 159 174 184 191 19...  \n",
            "680622  198 186 164 88 93 171 192 203 207 210 211 211 ...  \n",
            "680623  225 227 225 225 226 227 226 225 225 225 223 22...  \n",
            "680624  150 68 82 97 104 112 130 139 150 161 169 175 1...  \n",
            "\n",
            "[680625 rows x 9 columns]\n"
          ]
        }
      ]
    },
    {
      "cell_type": "code",
      "source": [
        "sampled_data = output1.sample(n=5)"
      ],
      "metadata": {
        "id": "VgHUv2KQPNp_"
      },
      "execution_count": null,
      "outputs": []
    },
    {
      "cell_type": "code",
      "source": [
        "print(sampled_data)"
      ],
      "metadata": {
        "colab": {
          "base_uri": "https://localhost:8080/"
        },
        "id": "_qX3NWIJQPNn",
        "outputId": "64a79956-e1ed-4600-cc16-ad949a108bef"
      },
      "execution_count": null,
      "outputs": [
        {
          "output_type": "stream",
          "name": "stdout",
          "text": [
            "        age  ethnicity_x  gender_x                      img_name_x  \\\n",
            "501455    1            2         0  20161219160949398.jpg.chip.jpg   \n",
            "671172    1            0         0  20161219212409141.jpg.chip.jpg   \n",
            "565423    1            3         1  20161219230239192.jpg.chip.jpg   \n",
            "536774    1            3         1  20161219224751288.jpg.chip.jpg   \n",
            "153543    1            0         0  20161219154556757.jpg.chip.jpg   \n",
            "\n",
            "                                                 pixels_x  ethnicity_y  \\\n",
            "501455  157 161 163 165 166 166 166 166 169 171 175 17...            3   \n",
            "671172  57 63 65 69 78 84 90 95 102 108 118 126 134 14...            2   \n",
            "565423  89 97 98 94 116 143 155 151 129 143 164 96 118...            3   \n",
            "536774  74 161 165 82 55 137 144 169 197 130 129 179 1...            3   \n",
            "153543  57 23 28 52 85 122 154 169 176 177 171 177 178...            2   \n",
            "\n",
            "        gender_y                      img_name_y  \\\n",
            "501455         1  20161219230723008.jpg.chip.jpg   \n",
            "671172         0  20161219151026723.jpg.chip.jpg   \n",
            "565423         0  20161220222436891.jpg.chip.jpg   \n",
            "536774         0  20161220220358441.jpg.chip.jpg   \n",
            "153543         0  20161219204836612.jpg.chip.jpg   \n",
            "\n",
            "                                                 pixels_y  \n",
            "501455  4 4 15 31 45 59 68 73 84 89 93 94 95 100 102 1...  \n",
            "671172  111 162 180 201 210 212 211 211 209 204 198 19...  \n",
            "565423  59 97 132 147 155 160 153 147 151 152 151 152 ...  \n",
            "536774  170 174 166 157 177 193 129 118 119 113 107 10...  \n",
            "153543  104 112 136 134 137 144 143 138 137 135 131 12...  \n"
          ]
        }
      ]
    },
    {
      "cell_type": "code",
      "source": [
        "dataset.drop(columns=['gender', 'age'], inplace=True)"
      ],
      "metadata": {
        "id": "CRRIrJIRQVjm"
      },
      "execution_count": null,
      "outputs": []
    },
    {
      "cell_type": "code",
      "source": [
        "print(dataset)"
      ],
      "metadata": {
        "colab": {
          "base_uri": "https://localhost:8080/"
        },
        "id": "deo6JUV6Q7He",
        "outputId": "558fdc9b-106e-45f1-b7a1-def3a5a18b4f"
      },
      "execution_count": null,
      "outputs": [
        {
          "output_type": "stream",
          "name": "stdout",
          "text": [
            "     ethnicity                        img_name  \\\n",
            "0            2  20161219203650636.jpg.chip.jpg   \n",
            "1            2  20161219222752047.jpg.chip.jpg   \n",
            "2            2  20161219222832191.jpg.chip.jpg   \n",
            "3            2  20161220144911423.jpg.chip.jpg   \n",
            "4            2  20161220144914327.jpg.chip.jpg   \n",
            "..         ...                             ...   \n",
            "820          0  20170109191453449.jpg.chip.jpg   \n",
            "821          0  20161220220239129.jpg.chip.jpg   \n",
            "822          0  20170103210032258.jpg.chip.jpg   \n",
            "823          0  20170103210415090.jpg.chip.jpg   \n",
            "824          0  20170103210548852.jpg.chip.jpg   \n",
            "\n",
            "                                                pixels  \n",
            "0    129 128 128 126 127 130 133 135 139 142 145 14...  \n",
            "1    164 74 111 168 169 171 175 182 184 188 193 199...  \n",
            "2    67 70 71 70 69 67 70 79 90 103 116 132 145 155...  \n",
            "3    193 197 198 200 199 200 202 203 204 205 208 21...  \n",
            "4    202 205 209 210 209 209 210 211 212 214 218 21...  \n",
            "..                                                 ...  \n",
            "820  95 104 115 124 136 143 149 155 158 170 174 179...  \n",
            "821  225 221 223 222 194 155 145 159 174 184 191 19...  \n",
            "822  198 186 164 88 93 171 192 203 207 210 211 211 ...  \n",
            "823  225 227 225 225 226 227 226 225 225 225 223 22...  \n",
            "824  150 68 82 97 104 112 130 139 150 161 169 175 1...  \n",
            "\n",
            "[825 rows x 3 columns]\n"
          ]
        }
      ]
    },
    {
      "cell_type": "code",
      "source": [
        "truncated_rows = output1.head(100)\n"
      ],
      "metadata": {
        "id": "wGd5TlRARahk"
      },
      "execution_count": null,
      "outputs": []
    },
    {
      "cell_type": "code",
      "source": [
        "print(output1)"
      ],
      "metadata": {
        "colab": {
          "base_uri": "https://localhost:8080/"
        },
        "id": "-fIeF3I-R8CR",
        "outputId": "ba908a31-0c10-4f54-ed0e-63705bf7ab7e"
      },
      "execution_count": null,
      "outputs": [
        {
          "output_type": "stream",
          "name": "stdout",
          "text": [
            "        age  ethnicity_x  gender_x                      img_name_x  \\\n",
            "0         1            2         0  20161219203650636.jpg.chip.jpg   \n",
            "1         1            2         0  20161219203650636.jpg.chip.jpg   \n",
            "2         1            2         0  20161219203650636.jpg.chip.jpg   \n",
            "3         1            2         0  20161219203650636.jpg.chip.jpg   \n",
            "4         1            2         0  20161219203650636.jpg.chip.jpg   \n",
            "...     ...          ...       ...                             ...   \n",
            "680620    1            0         0  20170103210548852.jpg.chip.jpg   \n",
            "680621    1            0         0  20170103210548852.jpg.chip.jpg   \n",
            "680622    1            0         0  20170103210548852.jpg.chip.jpg   \n",
            "680623    1            0         0  20170103210548852.jpg.chip.jpg   \n",
            "680624    1            0         0  20170103210548852.jpg.chip.jpg   \n",
            "\n",
            "                                                 pixels_x  ethnicity_y  \\\n",
            "0       129 128 128 126 127 130 133 135 139 142 145 14...            2   \n",
            "1       129 128 128 126 127 130 133 135 139 142 145 14...            2   \n",
            "2       129 128 128 126 127 130 133 135 139 142 145 14...            2   \n",
            "3       129 128 128 126 127 130 133 135 139 142 145 14...            2   \n",
            "4       129 128 128 126 127 130 133 135 139 142 145 14...            2   \n",
            "...                                                   ...          ...   \n",
            "680620  150 68 82 97 104 112 130 139 150 161 169 175 1...            0   \n",
            "680621  150 68 82 97 104 112 130 139 150 161 169 175 1...            0   \n",
            "680622  150 68 82 97 104 112 130 139 150 161 169 175 1...            0   \n",
            "680623  150 68 82 97 104 112 130 139 150 161 169 175 1...            0   \n",
            "680624  150 68 82 97 104 112 130 139 150 161 169 175 1...            0   \n",
            "\n",
            "        gender_y                      img_name_y  \\\n",
            "0              0  20161219203650636.jpg.chip.jpg   \n",
            "1              0  20161219222752047.jpg.chip.jpg   \n",
            "2              0  20161219222832191.jpg.chip.jpg   \n",
            "3              0  20161220144911423.jpg.chip.jpg   \n",
            "4              0  20161220144914327.jpg.chip.jpg   \n",
            "...          ...                             ...   \n",
            "680620         0  20170109191453449.jpg.chip.jpg   \n",
            "680621         0  20161220220239129.jpg.chip.jpg   \n",
            "680622         0  20170103210032258.jpg.chip.jpg   \n",
            "680623         0  20170103210415090.jpg.chip.jpg   \n",
            "680624         0  20170103210548852.jpg.chip.jpg   \n",
            "\n",
            "                                                 pixels_y  \n",
            "0       129 128 128 126 127 130 133 135 139 142 145 14...  \n",
            "1       164 74 111 168 169 171 175 182 184 188 193 199...  \n",
            "2       67 70 71 70 69 67 70 79 90 103 116 132 145 155...  \n",
            "3       193 197 198 200 199 200 202 203 204 205 208 21...  \n",
            "4       202 205 209 210 209 209 210 211 212 214 218 21...  \n",
            "...                                                   ...  \n",
            "680620  95 104 115 124 136 143 149 155 158 170 174 179...  \n",
            "680621  225 221 223 222 194 155 145 159 174 184 191 19...  \n",
            "680622  198 186 164 88 93 171 192 203 207 210 211 211 ...  \n",
            "680623  225 227 225 225 226 227 226 225 225 225 223 22...  \n",
            "680624  150 68 82 97 104 112 130 139 150 161 169 175 1...  \n",
            "\n",
            "[680625 rows x 9 columns]\n"
          ]
        }
      ]
    },
    {
      "cell_type": "code",
      "source": [],
      "metadata": {
        "id": "YbMZO-hNSKq_"
      },
      "execution_count": null,
      "outputs": []
    }
  ]
}