{
  "nbformat": 4,
  "nbformat_minor": 0,
  "metadata": {
    "colab": {
      "provenance": [],
      "authorship_tag": "ABX9TyN+bPJcjh658YJRSXdkFUBO",
      "include_colab_link": true
    },
    "kernelspec": {
      "name": "python3",
      "display_name": "Python 3"
    },
    "language_info": {
      "name": "python"
    }
  },
  "cells": [
    {
      "cell_type": "markdown",
      "metadata": {
        "id": "view-in-github",
        "colab_type": "text"
      },
      "source": [
        "<a href=\"https://colab.research.google.com/github/adi22s/DS-Exp/blob/main/exp_8.ipynb\" target=\"_parent\"><img src=\"https://colab.research.google.com/assets/colab-badge.svg\" alt=\"Open In Colab\"/></a>"
      ]
    },
    {
      "cell_type": "markdown",
      "source": [
        "**Apply filter feature selection Techniques Part-2 using data set obtained from UCI ML repository. ( Wrapper Methods , Backward Feature Elimination , Embedded Methods LASSO Regularization (L1))**\n"
      ],
      "metadata": {
        "id": "bkV5AJJTOPQm"
      }
    },
    {
      "cell_type": "markdown",
      "source": [
        "**Backward Feature Elimination (RFE)**"
      ],
      "metadata": {
        "id": "AperVyKTNy_z"
      }
    },
    {
      "cell_type": "code",
      "execution_count": 2,
      "metadata": {
        "colab": {
          "base_uri": "https://localhost:8080/"
        },
        "id": "AuFbI60oNXUB",
        "outputId": "7b27fe1a-91c9-44b4-bc08-9957192c53f7"
      },
      "outputs": [
        {
          "output_type": "stream",
          "name": "stdout",
          "text": [
            "Selected Features by RFE: Index(['PetalLengthCm', 'PetalWidthCm'], dtype='object')\n"
          ]
        }
      ],
      "source": [
        "# Import necessary libraries for RFE\n",
        "import pandas as pd\n",
        "from sklearn.feature_selection import RFE\n",
        "from sklearn.linear_model import LogisticRegression\n",
        "from sklearn.preprocessing import LabelEncoder\n",
        "from sklearn.preprocessing import StandardScaler\n",
        "\n",
        "# Load the dataset\n",
        "iris_data = pd.read_csv('Iris.csv')\n",
        "\n",
        "# Drop the 'Id' column as it is irrelevant for feature selection\n",
        "iris_data_cleaned = iris_data.drop(columns=['Id'])\n",
        "\n",
        "# Separate features and target\n",
        "X = iris_data_cleaned.drop(columns=['Species'])\n",
        "y = iris_data_cleaned['Species']\n",
        "\n",
        "# Encode the target variable (Species)\n",
        "label_encoder = LabelEncoder()\n",
        "y_encoded = label_encoder.fit_transform(y)\n",
        "\n",
        "# Standardizing the data (optional, but helps in regression methods)\n",
        "scaler = StandardScaler()\n",
        "X_scaled = scaler.fit_transform(X)\n",
        "\n",
        "# Create a logistic regression model\n",
        "log_reg = LogisticRegression(max_iter=1000)\n",
        "\n",
        "# Perform RFE (Recursive Feature Elimination)\n",
        "rfe = RFE(estimator=log_reg, n_features_to_select=2)  # Select top 2 features\n",
        "rfe.fit(X_scaled, y_encoded)\n",
        "\n",
        "# Get the selected features\n",
        "rfe_selected_features = X.columns[rfe.support_]\n",
        "print(\"Selected Features by RFE:\", rfe_selected_features)\n"
      ]
    },
    {
      "cell_type": "markdown",
      "source": [
        "**LASSO Regularization (L1 Penalty)**"
      ],
      "metadata": {
        "id": "nTkVtkSPOIJr"
      }
    },
    {
      "cell_type": "code",
      "source": [
        "# Import necessary libraries for LASSO\n",
        "from sklearn.linear_model import LassoCV\n",
        "\n",
        "# Using Lasso with cross-validation to select features\n",
        "lasso = LassoCV(cv=5).fit(X_scaled, y_encoded)\n",
        "\n",
        "# Get the coefficients of the features\n",
        "lasso_coefficients = lasso.coef_\n",
        "\n",
        "# Get the selected features (non-zero coefficients)\n",
        "lasso_selected_features = X.columns[lasso_coefficients != 0]\n",
        "print(\"Selected Features by LASSO:\", lasso_selected_features)\n"
      ],
      "metadata": {
        "colab": {
          "base_uri": "https://localhost:8080/"
        },
        "id": "x9dVy_y8N4jW",
        "outputId": "e398589f-bb7c-4e6b-b8c1-fa4966d09e44"
      },
      "execution_count": 3,
      "outputs": [
        {
          "output_type": "stream",
          "name": "stdout",
          "text": [
            "Selected Features by LASSO: Index(['SepalLengthCm', 'SepalWidthCm', 'PetalLengthCm', 'PetalWidthCm'], dtype='object')\n"
          ]
        }
      ]
    },
    {
      "cell_type": "code",
      "source": [],
      "metadata": {
        "id": "3pnXtiV-OE1F"
      },
      "execution_count": null,
      "outputs": []
    }
  ]
}